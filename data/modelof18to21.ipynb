{
 "cells": [
  {
   "cell_type": "code",
   "execution_count": 53,
   "id": "89560d50",
   "metadata": {},
   "outputs": [],
   "source": [
    "import numpy as np\n",
    "import pandas as pd"
   ]
  },
  {
   "cell_type": "code",
   "execution_count": 71,
   "id": "3269439c",
   "metadata": {},
   "outputs": [
    {
     "name": "stdout",
     "output_type": "stream",
     "text": [
      "Dataset loaded successfully!\n"
     ]
    }
   ],
   "source": [
    "try:\n",
    "    df18 = pd.read_csv('dataset/District_Wise_Mental_Health_Patients_2018-19.csv')\n",
    "    df19 = pd.read_csv('dataset/District_Wise_Mental_Health_Patients_2019-20.csv')\n",
    "    df20 = pd.read_csv('dataset/District_Wise_Mental_Health_Patients_2021-22.csv')\n",
    "    print(\"Dataset loaded successfully!\")\n",
    "# except FileNotFoundError:\n",
    "#     print(\"Error: The file was not found.\")\n",
    "except Exception as e:\n",
    "    print(f\"An unexpected error occurred: {e}\")"
   ]
  },
  {
   "cell_type": "code",
   "execution_count": 36,
   "id": "8d8f49cd",
   "metadata": {},
   "outputs": [
    {
     "data": {
      "text/html": [
       "<div>\n",
       "<style scoped>\n",
       "    .dataframe tbody tr th:only-of-type {\n",
       "        vertical-align: middle;\n",
       "    }\n",
       "\n",
       "    .dataframe tbody tr th {\n",
       "        vertical-align: top;\n",
       "    }\n",
       "\n",
       "    .dataframe thead th {\n",
       "        text-align: right;\n",
       "    }\n",
       "</style>\n",
       "<table border=\"1\" class=\"dataframe\">\n",
       "  <thead>\n",
       "    <tr style=\"text-align: right;\">\n",
       "      <th></th>\n",
       "      <th>SL No</th>\n",
       "      <th>DISTRICT</th>\n",
       "      <th>SEVERE_MENTAL_DISORDER_(SMD)</th>\n",
       "      <th>COMMON_MENTAL _DISORDER(CMD)</th>\n",
       "      <th>ALCOHOL_&amp;_SUBSTANCE_ABUSE</th>\n",
       "      <th>CASES_REFERRED_TO_HIGHER_CENTRES</th>\n",
       "      <th>SUICIDE_ATTEMPT_CASES</th>\n",
       "      <th>Others</th>\n",
       "      <th>Total</th>\n",
       "    </tr>\n",
       "  </thead>\n",
       "  <tbody>\n",
       "    <tr>\n",
       "      <th>0</th>\n",
       "      <td>1</td>\n",
       "      <td>BAGALKOTE</td>\n",
       "      <td>2833</td>\n",
       "      <td>2937</td>\n",
       "      <td>238</td>\n",
       "      <td>41</td>\n",
       "      <td>31</td>\n",
       "      <td>8393</td>\n",
       "      <td>14473</td>\n",
       "    </tr>\n",
       "    <tr>\n",
       "      <th>1</th>\n",
       "      <td>2</td>\n",
       "      <td>BANGALORE RURAL</td>\n",
       "      <td>3053</td>\n",
       "      <td>8975</td>\n",
       "      <td>1437</td>\n",
       "      <td>602</td>\n",
       "      <td>188</td>\n",
       "      <td>9499</td>\n",
       "      <td>23754</td>\n",
       "    </tr>\n",
       "    <tr>\n",
       "      <th>2</th>\n",
       "      <td>3</td>\n",
       "      <td>BANGALORE URBAN</td>\n",
       "      <td>7601</td>\n",
       "      <td>25663</td>\n",
       "      <td>4747</td>\n",
       "      <td>687</td>\n",
       "      <td>609</td>\n",
       "      <td>14648</td>\n",
       "      <td>53955</td>\n",
       "    </tr>\n",
       "    <tr>\n",
       "      <th>3</th>\n",
       "      <td>4</td>\n",
       "      <td>BELGAUM</td>\n",
       "      <td>10901</td>\n",
       "      <td>15740</td>\n",
       "      <td>3663</td>\n",
       "      <td>782</td>\n",
       "      <td>784</td>\n",
       "      <td>28139</td>\n",
       "      <td>60009</td>\n",
       "    </tr>\n",
       "    <tr>\n",
       "      <th>4</th>\n",
       "      <td>5</td>\n",
       "      <td>BELLARY</td>\n",
       "      <td>11153</td>\n",
       "      <td>10998</td>\n",
       "      <td>5585</td>\n",
       "      <td>26</td>\n",
       "      <td>3517</td>\n",
       "      <td>16576</td>\n",
       "      <td>47855</td>\n",
       "    </tr>\n",
       "  </tbody>\n",
       "</table>\n",
       "</div>"
      ],
      "text/plain": [
       "   SL No        DISTRICT   SEVERE_MENTAL_DISORDER_(SMD)  \\\n",
       "0      1        BAGALKOTE                          2833   \n",
       "1      2  BANGALORE RURAL                          3053   \n",
       "2      3  BANGALORE URBAN                          7601   \n",
       "3      4          BELGAUM                         10901   \n",
       "4      5          BELLARY                         11153   \n",
       "\n",
       "   COMMON_MENTAL _DISORDER(CMD)  ALCOHOL_&_SUBSTANCE_ABUSE  \\\n",
       "0                          2937                        238   \n",
       "1                          8975                       1437   \n",
       "2                         25663                       4747   \n",
       "3                         15740                       3663   \n",
       "4                         10998                       5585   \n",
       "\n",
       "   CASES_REFERRED_TO_HIGHER_CENTRES  SUICIDE_ATTEMPT_CASES  Others  Total  \n",
       "0                                41                     31    8393  14473  \n",
       "1                               602                    188    9499  23754  \n",
       "2                               687                    609   14648  53955  \n",
       "3                               782                    784   28139  60009  \n",
       "4                                26                   3517   16576  47855  "
      ]
     },
     "execution_count": 36,
     "metadata": {},
     "output_type": "execute_result"
    }
   ],
   "source": [
    "df18.head()"
   ]
  },
  {
   "cell_type": "code",
   "execution_count": 37,
   "id": "dd8192c2",
   "metadata": {},
   "outputs": [],
   "source": [
    "df18['Year']='2018'\n",
    "df19['Year']='2019'\n",
    "df20['Year']='2020'"
   ]
  },
  {
   "cell_type": "code",
   "execution_count": 38,
   "id": "3ef2dc72",
   "metadata": {},
   "outputs": [
    {
     "name": "stdout",
     "output_type": "stream",
     "text": [
      "0\n"
     ]
    }
   ],
   "source": [
    "total_nans=df18.isna().sum().sum()\n",
    "print(total_nans)"
   ]
  },
  {
   "cell_type": "code",
   "execution_count": 39,
   "id": "c56a2d0a",
   "metadata": {},
   "outputs": [
    {
     "name": "stdout",
     "output_type": "stream",
     "text": [
      "False\n"
     ]
    }
   ],
   "source": [
    "print(df20.isnull().values.any())  # Checks for any missing values"
   ]
  },
  {
   "cell_type": "code",
   "execution_count": 40,
   "id": "4711face",
   "metadata": {},
   "outputs": [
    {
     "name": "stdout",
     "output_type": "stream",
     "text": [
      "Concatenation successful!\n",
      "   SL No        DISTRICT   SEVERE_MENTAL_DISORDER_(SMD)  \\\n",
      "0      1        BAGALKOTE                          2833   \n",
      "1      2  BANGALORE RURAL                          3053   \n",
      "\n",
      "   COMMON_MENTAL _DISORDER(CMD)  ALCOHOL_&_SUBSTANCE_ABUSE  \\\n",
      "0                          2937                        238   \n",
      "1                          8975                       1437   \n",
      "\n",
      "   CASES_REFERRED_TO_HIGHER_CENTRES  SUICIDE_ATTEMPT_CASES  Others  Total  \\\n",
      "0                                41                     31    8393  14473   \n",
      "1                               602                    188    9499  23754   \n",
      "\n",
      "   Year  \n",
      "0  2018  \n",
      "1  2018  \n"
     ]
    }
   ],
   "source": [
    "try:\n",
    "    merged_df=pd.concat([df18,df19,df20])\n",
    "    print(\"Concatenation successful!\")\n",
    "    print(merged_df.head(2))\n",
    "\n",
    "except KeyError as ke:\n",
    "    print(f\"LEy error: {ke}\")\n",
    "except ValueError as ve:\n",
    "    print(f\"ValueError: {ve}\")\n",
    "except TypeError as te:\n",
    "    print(f\"TypeError: {te}\")\n",
    "except Exception as e:\n",
    "    print(f\"An unexpected error occurred: {e}\")\n"
   ]
  },
  {
   "cell_type": "code",
   "execution_count": 41,
   "id": "f5d890dd",
   "metadata": {},
   "outputs": [
    {
     "name": "stdout",
     "output_type": "stream",
     "text": [
      "<class 'pandas.core.frame.DataFrame'>\n",
      "Int64Index: 90 entries, 0 to 29\n",
      "Data columns (total 10 columns):\n",
      " #   Column                            Non-Null Count  Dtype \n",
      "---  ------                            --------------  ----- \n",
      " 0   SL No                             90 non-null     int64 \n",
      " 1   DISTRICT                          90 non-null     object\n",
      " 2   SEVERE_MENTAL_DISORDER_(SMD)      90 non-null     int64 \n",
      " 3   COMMON_MENTAL _DISORDER(CMD)      90 non-null     int64 \n",
      " 4   ALCOHOL_&_SUBSTANCE_ABUSE         90 non-null     int64 \n",
      " 5   CASES_REFERRED_TO_HIGHER_CENTRES  90 non-null     int64 \n",
      " 6   SUICIDE_ATTEMPT_CASES             90 non-null     int64 \n",
      " 7   Others                            90 non-null     int64 \n",
      " 8   Total                             90 non-null     int64 \n",
      " 9   Year                              90 non-null     object\n",
      "dtypes: int64(8), object(2)\n",
      "memory usage: 7.7+ KB\n"
     ]
    }
   ],
   "source": [
    "merged_df.info()"
   ]
  },
  {
   "cell_type": "code",
   "execution_count": 42,
   "id": "12bdce7d",
   "metadata": {},
   "outputs": [
    {
     "name": "stdout",
     "output_type": "stream",
     "text": [
      "No missing data.\n"
     ]
    }
   ],
   "source": [
    "try:\n",
    "    if merged_df.isnull().values.any():\n",
    "        raise ValueError(\"Missing data detected!\")\n",
    "    print(\"No missing data.\")\n",
    "except ValueError as ve:\n",
    "    print(f\"Error: {ve}\")\n",
    "except Exception as e:\n",
    "    print(f\"An unexpected error occurred: {e}\")"
   ]
  },
  {
   "cell_type": "code",
   "execution_count": 43,
   "id": "9866e2c8",
   "metadata": {},
   "outputs": [
    {
     "name": "stdout",
     "output_type": "stream",
     "text": [
      "Index(['SL No', 'DISTRICT', 'SEVERE_MENTAL_DISORDER_(SMD)',\n",
      "       'COMMON_MENTAL _DISORDER(CMD)', 'ALCOHOL_&_SUBSTANCE_ABUSE',\n",
      "       'CASES_REFERRED_TO_HIGHER_CENTRES', 'SUICIDE_ATTEMPT_CASES', 'Others',\n",
      "       'Total', 'Year'],\n",
      "      dtype='object')\n"
     ]
    }
   ],
   "source": [
    "merged_df.columns=merged_df.columns.str.strip()\n",
    "print(merged_df.columns)"
   ]
  },
  {
   "cell_type": "code",
   "execution_count": 44,
   "id": "93ec660c",
   "metadata": {},
   "outputs": [
    {
     "name": "stdout",
     "output_type": "stream",
     "text": [
      "DataFrame exported to csv\n"
     ]
    }
   ],
   "source": [
    "try:\n",
    "    merged_df.to_csv('districtWiseMentalHealth_18to20.csv', index=False, encoding='utf-8')\n",
    "    print(\"DataFrame exported to csv\")\n",
    "except IOError as ioe:\n",
    "    print(f\"IOError: There was an issue writing the file. Details: {ioe}\")\n",
    "except Exception as e:\n",
    "    print(f\"An unexpected error occurred: {e}\")"
   ]
  },
  {
   "cell_type": "code",
   "execution_count": 45,
   "id": "a287a41f",
   "metadata": {},
   "outputs": [
    {
     "data": {
      "text/plain": [
       "<AxesSubplot:title={'center':'Alcoholic cases'}, xlabel='DISTRICT'>"
      ]
     },
     "execution_count": 45,
     "metadata": {},
     "output_type": "execute_result"
    },
    {
     "data": {
      "image/png": "[encoded data removed]",
      "text/plain": [
       "<Figure size 432x288 with 1 Axes>"
      ]
     },
     "metadata": {
      "needs_background": "light"
     },
     "output_type": "display_data"
    }
   ],
   "source": [
    "merged_df.plot(x='DISTRICT', y='ALCOHOL_&_SUBSTANCE_ABUSE', kind='line', marker='o', title='Alcoholic cases')"
   ]
  },
  {
   "cell_type": "code",
   "execution_count": 55,
   "id": "7fc00d93",
   "metadata": {},
   "outputs": [],
   "source": [
    "time_series_data = pd.read_csv('districtWiseMentalHealth_18to20.csv')"
   ]
  },
  {
   "cell_type": "code",
   "execution_count": 56,
   "id": "2a66d659",
   "metadata": {},
   "outputs": [
    {
     "data": {
      "text/plain": [
       "Index(['SL No', 'DISTRICT', 'SEVERE_MENTAL_DISORDER_(SMD)',\n",
       "       'COMMON_MENTAL _DISORDER(CMD)', 'ALCOHOL_&_SUBSTANCE_ABUSE',\n",
       "       'CASES_REFERRED_TO_HIGHER_CENTRES', 'SUICIDE_ATTEMPT_CASES', 'Others',\n",
       "       'Total', 'Year'],\n",
       "      dtype='object')"
      ]
     },
     "execution_count": 56,
     "metadata": {},
     "output_type": "execute_result"
    }
   ],
   "source": [
    "time_series_data.columns"
   ]
  },
  {
   "cell_type": "code",
   "execution_count": 57,
   "id": "8ae9c44e",
   "metadata": {},
   "outputs": [
    {
     "data": {
      "text/html": [
       "<div>\n",
       "<style scoped>\n",
       "    .dataframe tbody tr th:only-of-type {\n",
       "        vertical-align: middle;\n",
       "    }\n",
       "\n",
       "    .dataframe tbody tr th {\n",
       "        vertical-align: top;\n",
       "    }\n",
       "\n",
       "    .dataframe thead th {\n",
       "        text-align: right;\n",
       "    }\n",
       "</style>\n",
       "<table border=\"1\" class=\"dataframe\">\n",
       "  <thead>\n",
       "    <tr style=\"text-align: right;\">\n",
       "      <th></th>\n",
       "      <th>SL No</th>\n",
       "      <th>DISTRICT</th>\n",
       "      <th>SEVERE_MENTAL_DISORDER_(SMD)</th>\n",
       "      <th>COMMON_MENTAL _DISORDER(CMD)</th>\n",
       "      <th>ALCOHOL_&amp;_SUBSTANCE_ABUSE</th>\n",
       "      <th>CASES_REFERRED_TO_HIGHER_CENTRES</th>\n",
       "      <th>SUICIDE_ATTEMPT_CASES</th>\n",
       "      <th>Others</th>\n",
       "      <th>Total</th>\n",
       "      <th>Year</th>\n",
       "    </tr>\n",
       "  </thead>\n",
       "  <tbody>\n",
       "    <tr>\n",
       "      <th>0</th>\n",
       "      <td>1</td>\n",
       "      <td>BAGALKOTE</td>\n",
       "      <td>2833</td>\n",
       "      <td>2937</td>\n",
       "      <td>238</td>\n",
       "      <td>41</td>\n",
       "      <td>31</td>\n",
       "      <td>8393</td>\n",
       "      <td>14473</td>\n",
       "      <td>2018</td>\n",
       "    </tr>\n",
       "    <tr>\n",
       "      <th>1</th>\n",
       "      <td>2</td>\n",
       "      <td>BANGALORE RURAL</td>\n",
       "      <td>3053</td>\n",
       "      <td>8975</td>\n",
       "      <td>1437</td>\n",
       "      <td>602</td>\n",
       "      <td>188</td>\n",
       "      <td>9499</td>\n",
       "      <td>23754</td>\n",
       "      <td>2018</td>\n",
       "    </tr>\n",
       "    <tr>\n",
       "      <th>2</th>\n",
       "      <td>3</td>\n",
       "      <td>BANGALORE URBAN</td>\n",
       "      <td>7601</td>\n",
       "      <td>25663</td>\n",
       "      <td>4747</td>\n",
       "      <td>687</td>\n",
       "      <td>609</td>\n",
       "      <td>14648</td>\n",
       "      <td>53955</td>\n",
       "      <td>2018</td>\n",
       "    </tr>\n",
       "    <tr>\n",
       "      <th>3</th>\n",
       "      <td>4</td>\n",
       "      <td>BELGAUM</td>\n",
       "      <td>10901</td>\n",
       "      <td>15740</td>\n",
       "      <td>3663</td>\n",
       "      <td>782</td>\n",
       "      <td>784</td>\n",
       "      <td>28139</td>\n",
       "      <td>60009</td>\n",
       "      <td>2018</td>\n",
       "    </tr>\n",
       "    <tr>\n",
       "      <th>4</th>\n",
       "      <td>5</td>\n",
       "      <td>BELLARY</td>\n",
       "      <td>11153</td>\n",
       "      <td>10998</td>\n",
       "      <td>5585</td>\n",
       "      <td>26</td>\n",
       "      <td>3517</td>\n",
       "      <td>16576</td>\n",
       "      <td>47855</td>\n",
       "      <td>2018</td>\n",
       "    </tr>\n",
       "  </tbody>\n",
       "</table>\n",
       "</div>"
      ],
      "text/plain": [
       "   SL No         DISTRICT  SEVERE_MENTAL_DISORDER_(SMD)  \\\n",
       "0      1        BAGALKOTE                          2833   \n",
       "1      2  BANGALORE RURAL                          3053   \n",
       "2      3  BANGALORE URBAN                          7601   \n",
       "3      4          BELGAUM                         10901   \n",
       "4      5          BELLARY                         11153   \n",
       "\n",
       "   COMMON_MENTAL _DISORDER(CMD)  ALCOHOL_&_SUBSTANCE_ABUSE  \\\n",
       "0                          2937                        238   \n",
       "1                          8975                       1437   \n",
       "2                         25663                       4747   \n",
       "3                         15740                       3663   \n",
       "4                         10998                       5585   \n",
       "\n",
       "   CASES_REFERRED_TO_HIGHER_CENTRES  SUICIDE_ATTEMPT_CASES  Others  Total  \\\n",
       "0                                41                     31    8393  14473   \n",
       "1                               602                    188    9499  23754   \n",
       "2                               687                    609   14648  53955   \n",
       "3                               782                    784   28139  60009   \n",
       "4                                26                   3517   16576  47855   \n",
       "\n",
       "   Year  \n",
       "0  2018  \n",
       "1  2018  \n",
       "2  2018  \n",
       "3  2018  \n",
       "4  2018  "
      ]
     },
     "execution_count": 57,
     "metadata": {},
     "output_type": "execute_result"
    }
   ],
   "source": [
    "time_series_data.head()"
   ]
  },
  {
   "cell_type": "code",
   "execution_count": 58,
   "id": "3e66b82d",
   "metadata": {},
   "outputs": [],
   "source": [
    "# time_series_data.set_index('Year',inplace=True)  //reset_index"
   ]
  },
  {
   "cell_type": "code",
   "execution_count": 59,
   "id": "933b9eb8",
   "metadata": {},
   "outputs": [],
   "source": [
    "import matplotlib.pyplot as plt\n",
    "import pandas as pd\n",
    "import numpy as np\n",
    "import matplotlib.pyplot as plt\n",
    "from sklearn.linear_model import LinearRegression\n",
    "from sklearn.metrics import r2_score, mean_squared_error"
   ]
  },
  {
   "cell_type": "code",
   "execution_count": 60,
   "id": "5b6e5d55",
   "metadata": {},
   "outputs": [],
   "source": [
    "time_series_data.reset_index(inplace=True)"
   ]
  },
  {
   "cell_type": "code",
   "execution_count": 62,
   "id": "ec968729",
   "metadata": {},
   "outputs": [],
   "source": [
    "# errors='coerce' so that if the Year column contains any invalid or non-year value then set them to NaT\n",
    "time_series_data['Year'] = pd.to_datetime(time_series_data['Year'], errors='coerce')"
   ]
  },
  {
   "cell_type": "code",
   "execution_count": 63,
   "id": "32d7bdf4",
   "metadata": {},
   "outputs": [],
   "source": [
    "#linear regression ,  \n",
    "#Independent variable (Year) and dependent variable (Total cases)\n",
    "X = np.array(time_series_data['Year'].dt.year).reshape(-1, 1)\n",
    "y = time_series_data['SUICIDE_ATTEMPT_CASES'].values "
   ]
  },
  {
   "cell_type": "code",
   "execution_count": 64,
   "id": "4573f7a3",
   "metadata": {},
   "outputs": [
    {
     "name": "stdout",
     "output_type": "stream",
     "text": [
      "Empty DataFrame\n",
      "Columns: [index, SL No, DISTRICT, SEVERE_MENTAL_DISORDER_(SMD), COMMON_MENTAL _DISORDER(CMD), ALCOHOL_&_SUBSTANCE_ABUSE, CASES_REFERRED_TO_HIGHER_CENTRES, SUICIDE_ATTEMPT_CASES, Others, Total, Year]\n",
      "Index: []\n"
     ]
    }
   ],
   "source": [
    "time_series_data.isnull().sum()\n",
    "nan_rows = time_series_data[time_series_data.isnull().any(axis=1)]\n",
    "print(nan_rows)"
   ]
  },
  {
   "cell_type": "code",
   "execution_count": 65,
   "id": "cd3c0b47",
   "metadata": {},
   "outputs": [
    {
     "data": {
      "text/plain": [
       "LinearRegression()"
      ]
     },
     "execution_count": 65,
     "metadata": {},
     "output_type": "execute_result"
    }
   ],
   "source": [
    "#Fit\n",
    "model = LinearRegression()\n",
    "model.fit(X, y)"
   ]
  },
  {
   "cell_type": "code",
   "execution_count": 66,
   "id": "e069de73",
   "metadata": {},
   "outputs": [],
   "source": [
    "years_extended = np.array([2018, 2019, 2020, 2021]).reshape(-1, 1)\n",
    "predicted_cases = model.predict(years_extended)\n"
   ]
  },
  {
   "cell_type": "code",
   "execution_count": 67,
   "id": "831ffbcc",
   "metadata": {},
   "outputs": [
    {
     "name": "stdout",
     "output_type": "stream",
     "text": [
      "r2:  0.0  and mse: 1351196.067777778\n"
     ]
    }
   ],
   "source": [
    "slope = model.coef_[0]\n",
    "intercept = model.intercept_\n",
    "r2 = r2_score(y, model.predict(X))  # R-squared value for model performance\n",
    "mse = mean_squared_error(y, model.predict(X))  # Mean Squared Error\n",
    "print(\"r2: \",r2,\" and mse:\",mse)"
   ]
  },
  {
   "cell_type": "code",
   "execution_count": 72,
   "id": "25af0917",
   "metadata": {},
   "outputs": [
    {
     "data": {
      "image/png": "[encoded data removed]",
      "text/plain": [
       "<Figure size 720x360 with 1 Axes>"
      ]
     },
     "metadata": {
      "needs_background": "light"
     },
     "output_type": "display_data"
    }
   ],
   "source": [
    "plt.figure(figsize=(10,5))\n",
    "plt.scatter(X, y, color='blue', label='Observed Cases Data') \n",
    "plt.plot(years_extended, predicted_cases, color='red', label='Linear Regression')\n",
    "plt.title(' Total SUICIDE attempt cases vs Year')\n",
    "plt.xlabel('Year')\n",
    "plt.ylabel('Total Cases')\n",
    "plt.legend()\n",
    "plt.grid(True)\n",
    "plt.show()\n"
   ]
  },
  {
   "cell_type": "code",
   "execution_count": 73,
   "id": "29565066",
   "metadata": {},
   "outputs": [
    {
     "name": "stdout",
     "output_type": "stream",
     "text": [
      "Regression Coefficient (Slope): 0.0\n",
      "Intercept: 596.7666666666667\n",
      "R-squared Value: 0.0\n",
      "Mean Squared Error (MSE): 1351196.067777778\n",
      "Predicted cases for 2021 to 2023: [596.76666667 596.76666667 596.76666667]\n"
     ]
    }
   ],
   "source": [
    "print(f\"Regression Coefficient (Slope): {slope}\")\n",
    "print(f\"Intercept: {intercept}\")\n",
    "print(f\"R-squared Value: {r2}\")\n",
    "print(f\"Mean Squared Error (MSE): {mse}\")\n",
    "print(f\"Predicted cases for 2021 to 2023: {predicted_cases[-3:]}\")\n"
   ]
  },
  {
   "cell_type": "code",
   "execution_count": null,
   "id": "3c748b80",
   "metadata": {},
   "outputs": [],
   "source": []
  },
  {
   "cell_type": "code",
   "execution_count": null,
   "id": "ce91c117",
   "metadata": {},
   "outputs": [],
   "source": []
  },
  {
   "cell_type": "code",
   "execution_count": null,
   "id": "3d506302",
   "metadata": {},
   "outputs": [],
   "source": []
  },
  {
   "cell_type": "code",
   "execution_count": null,
   "id": "2f9b02a0",
   "metadata": {},
   "outputs": [],
   "source": []
  }
 ],
 "metadata": {
  "kernelspec": {
   "display_name": "Python 3 (ipykernel)",
   "language": "python",
   "name": "python3"
  },
  "language_info": {
   "codemirror_mode": {
    "name": "ipython",
    "version": 3
   },
   "file_extension": ".py",
   "mimetype": "text/x-python",
   "name": "python",
   "nbconvert_exporter": "python",
   "pygments_lexer": "ipython3",
   "version": "3.9.12"
  }
 },
 "nbformat": 4,
 "nbformat_minor": 5
}
